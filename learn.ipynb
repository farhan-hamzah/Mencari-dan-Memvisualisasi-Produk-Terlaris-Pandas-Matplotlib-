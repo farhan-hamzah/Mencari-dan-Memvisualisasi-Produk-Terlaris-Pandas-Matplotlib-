{
 "cells": [
  {
   "cell_type": "code",
   "execution_count": 1,
   "id": "be8172cd-bab1-48ce-b22b-f8ab112a60bb",
   "metadata": {},
   "outputs": [
    {
     "data": {
      "text/plain": [
       "'C:\\\\Users\\\\LENOVO\\\\learnPandas'"
      ]
     },
     "execution_count": 1,
     "metadata": {},
     "output_type": "execute_result"
    }
   ],
   "source": [
    "pwd"
   ]
  },
  {
   "cell_type": "code",
   "execution_count": 2,
   "id": "655a0ed1-8e84-49d5-80be-4f7e78beea3d",
   "metadata": {},
   "outputs": [],
   "source": [
    "import pandas as pd\n",
    "import matplotlib.pyplot as plt"
   ]
  },
  {
   "cell_type": "code",
   "execution_count": 3,
   "id": "684c6f9b-2468-46f8-bc11-f8097c8591e3",
   "metadata": {},
   "outputs": [],
   "source": [
    "data = {\n",
    "    'order_id': [1001, 1002, 1003, 1004, 1005, 1006, 1007],\n",
    "    'customer': ['Aisyah', 'Budi', 'Citra', 'Budi', 'Aisyah', 'Dedi', 'Citra'],\n",
    "    'category': ['Elektronik', 'Fashion', 'Elektronik', 'Fashion', 'Fashion', 'Elektronik', 'Fashion'],\n",
    "    'product': ['Laptop', 'Jaket', 'Kamera', 'Sepatu', 'Tas', 'Smartphone', 'Kemeja'],\n",
    "    'price': [12000000, 350000, 5000000, 800000, 450000, 9500000, 300000],\n",
    "    'quantity': [1, 2, 1, 1, 3, 1, 2],\n",
    "    'order_date': ['2024-07-01', '2024-07-01', '2024-07-02', '2024-07-02', '2024-07-03', '2024-07-03', '2024-07-04']\n",
    "}\n"
   ]
  },
  {
   "cell_type": "code",
   "execution_count": 4,
   "id": "4d42f064-0f14-42ed-92eb-414e66e4481b",
   "metadata": {},
   "outputs": [],
   "source": [
    "data = pd.DataFrame(data)"
   ]
  },
  {
   "cell_type": "code",
   "execution_count": 22,
   "id": "3083e22e-b390-4c15-b592-c38d70e2baec",
   "metadata": {},
   "outputs": [
    {
     "data": {
      "text/html": [
       "<div>\n",
       "<style scoped>\n",
       "    .dataframe tbody tr th:only-of-type {\n",
       "        vertical-align: middle;\n",
       "    }\n",
       "\n",
       "    .dataframe tbody tr th {\n",
       "        vertical-align: top;\n",
       "    }\n",
       "\n",
       "    .dataframe thead th {\n",
       "        text-align: right;\n",
       "    }\n",
       "</style>\n",
       "<table border=\"1\" class=\"dataframe\">\n",
       "  <thead>\n",
       "    <tr style=\"text-align: right;\">\n",
       "      <th></th>\n",
       "      <th>order_id</th>\n",
       "      <th>customer</th>\n",
       "      <th>category</th>\n",
       "      <th>product</th>\n",
       "      <th>price</th>\n",
       "      <th>quantity</th>\n",
       "      <th>order_date</th>\n",
       "      <th>total_sales</th>\n",
       "    </tr>\n",
       "  </thead>\n",
       "  <tbody>\n",
       "    <tr>\n",
       "      <th>0</th>\n",
       "      <td>1001</td>\n",
       "      <td>Aisyah</td>\n",
       "      <td>Elektronik</td>\n",
       "      <td>Laptop</td>\n",
       "      <td>12000000</td>\n",
       "      <td>1</td>\n",
       "      <td>2024-07-01</td>\n",
       "      <td>12000000</td>\n",
       "    </tr>\n",
       "    <tr>\n",
       "      <th>1</th>\n",
       "      <td>1002</td>\n",
       "      <td>Budi</td>\n",
       "      <td>Fashion</td>\n",
       "      <td>Jaket</td>\n",
       "      <td>350000</td>\n",
       "      <td>2</td>\n",
       "      <td>2024-07-01</td>\n",
       "      <td>700000</td>\n",
       "    </tr>\n",
       "    <tr>\n",
       "      <th>2</th>\n",
       "      <td>1003</td>\n",
       "      <td>Citra</td>\n",
       "      <td>Elektronik</td>\n",
       "      <td>Kamera</td>\n",
       "      <td>5000000</td>\n",
       "      <td>1</td>\n",
       "      <td>2024-07-02</td>\n",
       "      <td>5000000</td>\n",
       "    </tr>\n",
       "    <tr>\n",
       "      <th>3</th>\n",
       "      <td>1004</td>\n",
       "      <td>Budi</td>\n",
       "      <td>Fashion</td>\n",
       "      <td>Sepatu</td>\n",
       "      <td>800000</td>\n",
       "      <td>1</td>\n",
       "      <td>2024-07-02</td>\n",
       "      <td>800000</td>\n",
       "    </tr>\n",
       "    <tr>\n",
       "      <th>4</th>\n",
       "      <td>1005</td>\n",
       "      <td>Aisyah</td>\n",
       "      <td>Fashion</td>\n",
       "      <td>Tas</td>\n",
       "      <td>450000</td>\n",
       "      <td>3</td>\n",
       "      <td>2024-07-03</td>\n",
       "      <td>1350000</td>\n",
       "    </tr>\n",
       "    <tr>\n",
       "      <th>5</th>\n",
       "      <td>1006</td>\n",
       "      <td>Dedi</td>\n",
       "      <td>Elektronik</td>\n",
       "      <td>Smartphone</td>\n",
       "      <td>9500000</td>\n",
       "      <td>1</td>\n",
       "      <td>2024-07-03</td>\n",
       "      <td>9500000</td>\n",
       "    </tr>\n",
       "    <tr>\n",
       "      <th>6</th>\n",
       "      <td>1007</td>\n",
       "      <td>Citra</td>\n",
       "      <td>Fashion</td>\n",
       "      <td>Kemeja</td>\n",
       "      <td>300000</td>\n",
       "      <td>2</td>\n",
       "      <td>2024-07-04</td>\n",
       "      <td>600000</td>\n",
       "    </tr>\n",
       "  </tbody>\n",
       "</table>\n",
       "</div>"
      ],
      "text/plain": [
       "   order_id customer    category     product     price  quantity  order_date  \\\n",
       "0      1001   Aisyah  Elektronik      Laptop  12000000         1  2024-07-01   \n",
       "1      1002     Budi     Fashion       Jaket    350000         2  2024-07-01   \n",
       "2      1003    Citra  Elektronik      Kamera   5000000         1  2024-07-02   \n",
       "3      1004     Budi     Fashion      Sepatu    800000         1  2024-07-02   \n",
       "4      1005   Aisyah     Fashion         Tas    450000         3  2024-07-03   \n",
       "5      1006     Dedi  Elektronik  Smartphone   9500000         1  2024-07-03   \n",
       "6      1007    Citra     Fashion      Kemeja    300000         2  2024-07-04   \n",
       "\n",
       "   total_sales  \n",
       "0     12000000  \n",
       "1       700000  \n",
       "2      5000000  \n",
       "3       800000  \n",
       "4      1350000  \n",
       "5      9500000  \n",
       "6       600000  "
      ]
     },
     "execution_count": 22,
     "metadata": {},
     "output_type": "execute_result"
    }
   ],
   "source": [
    "data"
   ]
  },
  {
   "cell_type": "code",
   "execution_count": 23,
   "id": "f2ecac20-0fd9-41cf-815d-d4c2261b9acf",
   "metadata": {},
   "outputs": [],
   "source": [
    "terlaris = data[data['quantity'] == data['quantity'].max()]"
   ]
  },
  {
   "cell_type": "code",
   "execution_count": 24,
   "id": "c3aca28c-2c8f-49cf-8921-28bd1434e837",
   "metadata": {},
   "outputs": [
    {
     "data": {
      "text/html": [
       "<div>\n",
       "<style scoped>\n",
       "    .dataframe tbody tr th:only-of-type {\n",
       "        vertical-align: middle;\n",
       "    }\n",
       "\n",
       "    .dataframe tbody tr th {\n",
       "        vertical-align: top;\n",
       "    }\n",
       "\n",
       "    .dataframe thead th {\n",
       "        text-align: right;\n",
       "    }\n",
       "</style>\n",
       "<table border=\"1\" class=\"dataframe\">\n",
       "  <thead>\n",
       "    <tr style=\"text-align: right;\">\n",
       "      <th></th>\n",
       "      <th>order_id</th>\n",
       "      <th>customer</th>\n",
       "      <th>category</th>\n",
       "      <th>product</th>\n",
       "      <th>price</th>\n",
       "      <th>quantity</th>\n",
       "      <th>order_date</th>\n",
       "      <th>total_sales</th>\n",
       "    </tr>\n",
       "  </thead>\n",
       "  <tbody>\n",
       "    <tr>\n",
       "      <th>4</th>\n",
       "      <td>1005</td>\n",
       "      <td>Aisyah</td>\n",
       "      <td>Fashion</td>\n",
       "      <td>Tas</td>\n",
       "      <td>450000</td>\n",
       "      <td>3</td>\n",
       "      <td>2024-07-03</td>\n",
       "      <td>1350000</td>\n",
       "    </tr>\n",
       "  </tbody>\n",
       "</table>\n",
       "</div>"
      ],
      "text/plain": [
       "   order_id customer category product   price  quantity  order_date  \\\n",
       "4      1005   Aisyah  Fashion     Tas  450000         3  2024-07-03   \n",
       "\n",
       "   total_sales  \n",
       "4      1350000  "
      ]
     },
     "execution_count": 24,
     "metadata": {},
     "output_type": "execute_result"
    }
   ],
   "source": [
    "terlaris"
   ]
  },
  {
   "cell_type": "code",
   "execution_count": 27,
   "id": "0d21febd-8505-4346-9531-5fba0496e4a8",
   "metadata": {},
   "outputs": [
    {
     "data": {
      "text/plain": [
       "<Figure size 800x500 with 0 Axes>"
      ]
     },
     "metadata": {},
     "output_type": "display_data"
    },
    {
     "data": {
      "image/png": "[encoded data removed]",
      "text/plain": [
       "<Figure size 640x480 with 1 Axes>"
      ]
     },
     "metadata": {},
     "output_type": "display_data"
    }
   ],
   "source": [
    "plt.figure(figsize=(8, 5))\n",
    "terlaris.plot.bar(color='skyblue')\n",
    "plt.title('Total Penjualan per Hari')\n",
    "plt.xlabel('Tanggal Pemesanan')\n",
    "plt.ylabel('Total Penjualan (IDR)')\n",
    "plt.grid(axis='y', linestyle='--', alpha=0.7)\n",
    "plt.show()"
   ]
  },
  {
   "cell_type": "code",
   "execution_count": null,
   "id": "c0ab480d-2570-46c0-a2bc-258586c51f80",
   "metadata": {},
   "outputs": [],
   "source": []
  }
 ],
 "metadata": {
  "kernelspec": {
   "display_name": "Python (TensorFlow)",
   "language": "python",
   "name": "tf-env"
  },
  "language_info": {
   "codemirror_mode": {
    "name": "ipython",
    "version": 3
   },
   "file_extension": ".py",
   "mimetype": "text/x-python",
   "name": "python",
   "nbconvert_exporter": "python",
   "pygments_lexer": "ipython3",
   "version": "3.10.10"
  }
 },
 "nbformat": 4,
 "nbformat_minor": 5
}
